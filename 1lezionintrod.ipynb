{
 "cells": [
  {
   "cell_type": "markdown",
   "metadata": {},
   "source": [
    "# Primo Notebook\n",
    "\n",
    "Questo è un primo esempio di Jupyter notebook. Posso anche scrivere formule in **LaTeX**, ad esempio $\\sigma=3$."
   ]
  },
  {
   "cell_type": "code",
   "execution_count": 4,
   "metadata": {},
   "outputs": [
    {
     "name": "stdout",
     "output_type": "stream",
     "text": [
      "Hello!\n"
     ]
    }
   ],
   "source": [
    "print('Hello!')"
   ]
  },
  {
   "cell_type": "code",
   "execution_count": 2,
   "metadata": {},
   "outputs": [
    {
     "ename": "SyntaxError",
     "evalue": "invalid syntax (<ipython-input-2-d785dc6c44bb>, line 1)",
     "output_type": "error",
     "traceback": [
      "\u001b[1;36m  File \u001b[1;32m\"<ipython-input-2-d785dc6c44bb>\"\u001b[1;36m, line \u001b[1;32m1\u001b[0m\n\u001b[1;33m    print('Hello') print('Ciao')\u001b[0m\n\u001b[1;37m                   ^\u001b[0m\n\u001b[1;31mSyntaxError\u001b[0m\u001b[1;31m:\u001b[0m invalid syntax\n"
     ]
    }
   ],
   "source": [
    "print('Hello') print('Ciao')"
   ]
  },
  {
   "cell_type": "code",
   "execution_count": 3,
   "metadata": {},
   "outputs": [
    {
     "name": "stdout",
     "output_type": "stream",
     "text": [
      "Hello\n",
      "Ciao\n"
     ]
    }
   ],
   "source": [
    "print('Hello')\n",
    "print('Ciao')"
   ]
  },
  {
   "cell_type": "code",
   "execution_count": 5,
   "metadata": {},
   "outputs": [
    {
     "name": "stdout",
     "output_type": "stream",
     "text": [
      "Hello\n"
     ]
    }
   ],
   "source": [
    "#questo e' un semplice comando di python\n",
    "print('Hello')"
   ]
  },
  {
   "cell_type": "markdown",
   "metadata": {},
   "source": [
    "Adesso andiamo a vedere l'importanza della **indentation** in Python"
   ]
  },
  {
   "cell_type": "code",
   "execution_count": 6,
   "metadata": {},
   "outputs": [
    {
     "name": "stdout",
     "output_type": "stream",
     "text": [
      "3 e maggiore di 2\n"
     ]
    }
   ],
   "source": [
    "if 3>2:\n",
    "    print('3 e maggiore di 2')"
   ]
  },
  {
   "cell_type": "code",
   "execution_count": 14,
   "metadata": {},
   "outputs": [
    {
     "name": "stdout",
     "output_type": "stream",
     "text": [
      "sono fuori dalla if condition\n"
     ]
    }
   ],
   "source": [
    "if 3>5:\n",
    "    print('3 e maggiore di 2')\n",
    "    print('fine della if condition')\n",
    "    if 2>1:\n",
    "        print('seconda if condition')\n",
    "print('sono fuori dalla if condition')"
   ]
  },
  {
   "cell_type": "code",
   "execution_count": 20,
   "metadata": {},
   "outputs": [],
   "source": [
    "x=5"
   ]
  },
  {
   "cell_type": "code",
   "execution_count": 16,
   "metadata": {},
   "outputs": [
    {
     "name": "stdout",
     "output_type": "stream",
     "text": [
      "5\n"
     ]
    }
   ],
   "source": [
    "print(x)"
   ]
  },
  {
   "cell_type": "code",
   "execution_count": 17,
   "metadata": {},
   "outputs": [],
   "source": [
    "x='Hello'"
   ]
  },
  {
   "cell_type": "code",
   "execution_count": 18,
   "metadata": {},
   "outputs": [
    {
     "name": "stdout",
     "output_type": "stream",
     "text": [
      "Hello\n"
     ]
    }
   ],
   "source": [
    "print(x)"
   ]
  },
  {
   "cell_type": "code",
   "execution_count": 21,
   "metadata": {},
   "outputs": [
    {
     "name": "stdout",
     "output_type": "stream",
     "text": [
      "<class 'int'>\n"
     ]
    }
   ],
   "source": [
    "print(type(x))  "
   ]
  },
  {
   "cell_type": "code",
   "execution_count": 22,
   "metadata": {},
   "outputs": [],
   "source": [
    "y=1+5j  #questo e' un numero complesso in py"
   ]
  },
  {
   "cell_type": "code",
   "execution_count": 23,
   "metadata": {},
   "outputs": [
    {
     "name": "stdout",
     "output_type": "stream",
     "text": [
      "<class 'complex'>\n"
     ]
    }
   ],
   "source": [
    "print(type(y)) #questo serve per esprimere il tipo e stampare il risultato"
   ]
  },
  {
   "cell_type": "code",
   "execution_count": 24,
   "metadata": {},
   "outputs": [
    {
     "name": "stdout",
     "output_type": "stream",
     "text": [
      "4\n",
      "<class 'int'>\n"
     ]
    }
   ],
   "source": [
    "z=int(4.8)     \n",
    "print(z)\n",
    "print(type(z))"
   ]
  },
  {
   "cell_type": "code",
   "execution_count": 25,
   "metadata": {},
   "outputs": [
    {
     "name": "stdout",
     "output_type": "stream",
     "text": [
      "4.8\n",
      "<class 'float'>\n"
     ]
    }
   ],
   "source": [
    "z=float(4.8)\n",
    "print(z)\n",
    "print(type(z))"
   ]
  },
  {
   "cell_type": "code",
   "execution_count": 28,
   "metadata": {},
   "outputs": [
    {
     "name": "stdout",
     "output_type": "stream",
     "text": [
      "11.5\n",
      "<class 'str'>\n",
      "4.8\n",
      "<class 'float'>\n"
     ]
    }
   ],
   "source": [
    "Z=str(11.5)     #py è case sensitive \n",
    "print(Z)\n",
    "print(type(Z))\n",
    "\n",
    "print(z)\n",
    "print(type(z))"
   ]
  },
  {
   "cell_type": "code",
   "execution_count": 36,
   "metadata": {},
   "outputs": [
    {
     "name": "stdout",
     "output_type": "stream",
     "text": [
      "27\n"
     ]
    }
   ],
   "source": [
    "z=3             #moltiplicazione\n",
    "print(z**3)"
   ]
  },
  {
   "cell_type": "code",
   "execution_count": 38,
   "metadata": {},
   "outputs": [
    {
     "name": "stdout",
     "output_type": "stream",
     "text": [
      "1\n"
     ]
    }
   ],
   "source": [
    "x=2\n",
    "print(z//x)   #la divisione di dafault ha risultato intero"
   ]
  },
  {
   "cell_type": "code",
   "execution_count": 37,
   "metadata": {},
   "outputs": [
    {
     "name": "stdout",
     "output_type": "stream",
     "text": [
      "<class 'int'>\n"
     ]
    }
   ],
   "source": [
    "print(type(z))"
   ]
  },
  {
   "cell_type": "code",
   "execution_count": 7,
   "metadata": {},
   "outputs": [],
   "source": [
    "x='Salve Mi Chiamo Bruno'   #stringa di caratteri"
   ]
  },
  {
   "cell_type": "code",
   "execution_count": 2,
   "metadata": {
    "scrolled": true
   },
   "outputs": [
    {
     "data": {
      "text/plain": [
       "True"
      ]
     },
     "execution_count": 2,
     "metadata": {},
     "output_type": "execute_result"
    }
   ],
   "source": [
    "x.istitle() #per visualizzare l'help di un comando digita ?x.istitle() :in questo caso è true xkè ho lettere maisc"
   ]
  },
  {
   "cell_type": "code",
   "execution_count": 4,
   "metadata": {},
   "outputs": [
    {
     "name": "stdout",
     "output_type": "stream",
     "text": [
      "Salve Mi Chiamo Bruno\n",
      "Sxlve Mi Chiamo Bruno\n"
     ]
    }
   ],
   "source": [
    "print(x)\n",
    "y=x.replace('a', 'x', 1)   #altro comando. \n",
    "print(y)"
   ]
  },
  {
   "cell_type": "code",
   "execution_count": 52,
   "metadata": {},
   "outputs": [],
   "source": [
    "?x.replace  #PER TROVARE COMANDI IMPORTANTI FARE nome.+tab"
   ]
  },
  {
   "cell_type": "code",
   "execution_count": 59,
   "metadata": {},
   "outputs": [
    {
     "name": "stdout",
     "output_type": "stream",
     "text": [
      "n\n"
     ]
    }
   ],
   "source": [
    "print(x[-2]) #mi stampa la penultima lettera"
   ]
  },
  {
   "cell_type": "code",
   "execution_count": 8,
   "metadata": {},
   "outputs": [
    {
     "name": "stdout",
     "output_type": "stream",
     "text": [
      "21\n"
     ]
    }
   ],
   "source": [
    "print(len(x))  #lunghezza stringa"
   ]
  },
  {
   "cell_type": "markdown",
   "metadata": {},
   "source": [
    "## LISTE"
   ]
  },
  {
   "cell_type": "code",
   "execution_count": 40,
   "metadata": {},
   "outputs": [
    {
     "name": "stdout",
     "output_type": "stream",
     "text": [
      "['lista', 1, 3]\n"
     ]
    }
   ],
   "source": [
    "lista1=['lista',1,3]\n",
    "print(lista1)"
   ]
  },
  {
   "cell_type": "code",
   "execution_count": 6,
   "metadata": {},
   "outputs": [
    {
     "data": {
      "text/plain": [
       "<function list.append(object, /)>"
      ]
     },
     "execution_count": 6,
     "metadata": {},
     "output_type": "execute_result"
    }
   ],
   "source": [
    "lista1.append  #IMPORTANTE: prova a digitare il nome dell'oggetto e clicca su tab->operazioni importanti"
   ]
  },
  {
   "cell_type": "code",
   "execution_count": 23,
   "metadata": {},
   "outputs": [],
   "source": [
    "?lista1.append"
   ]
  },
  {
   "cell_type": "code",
   "execution_count": 24,
   "metadata": {},
   "outputs": [],
   "source": [
    "?lista1.clear   "
   ]
  },
  {
   "cell_type": "code",
   "execution_count": 27,
   "metadata": {},
   "outputs": [
    {
     "name": "stdout",
     "output_type": "stream",
     "text": [
      "lista\n"
     ]
    }
   ],
   "source": [
    "print(lista1[0])"
   ]
  },
  {
   "cell_type": "code",
   "execution_count": 29,
   "metadata": {},
   "outputs": [
    {
     "name": "stdout",
     "output_type": "stream",
     "text": [
      "3\n"
     ]
    }
   ],
   "source": [
    "print(lista1[-1])  #STAMPA L'ULTIMO CARATTERE"
   ]
  },
  {
   "cell_type": "code",
   "execution_count": 41,
   "metadata": {},
   "outputs": [
    {
     "name": "stdout",
     "output_type": "stream",
     "text": [
      "[123, 1, 3]\n"
     ]
    }
   ],
   "source": [
    "lista1[0]=123   #cambio valore\n",
    "print(lista1)"
   ]
  },
  {
   "cell_type": "code",
   "execution_count": 31,
   "metadata": {},
   "outputs": [
    {
     "name": "stdout",
     "output_type": "stream",
     "text": [
      "[123, 1, 3]\n"
     ]
    }
   ],
   "source": [
    "#stare attenti a ciò che segue:\n",
    "\n",
    "c=lista1\n",
    "print(c)\n"
   ]
  },
  {
   "cell_type": "code",
   "execution_count": 34,
   "metadata": {},
   "outputs": [
    {
     "name": "stdout",
     "output_type": "stream",
     "text": [
      "[0, 1, 3]\n",
      "[0, 1, 3]\n"
     ]
    }
   ],
   "source": [
    "#se ora faccio:\n",
    "lista1[0]=0\n",
    "print(lista1)\n",
    "print(c)  #quindi c=lista1 è come se usassi un puntatore(C/C++) quindi come fossero collegati anche per op seguenti"
   ]
  },
  {
   "cell_type": "code",
   "execution_count": 39,
   "metadata": {},
   "outputs": [
    {
     "name": "stdout",
     "output_type": "stream",
     "text": [
      "[11, 1, 3]\n",
      "[123, 11, 3]\n",
      "['lista', 1, 3]\n"
     ]
    }
   ],
   "source": [
    "#Come si COPIA quindi in una nuova variabile senza problemi??\n",
    "d=lista1.copy()   #ora se modifico lista1 non avrò problemi su d\n",
    "\n",
    "lista1[0]=11\n",
    "print(lista1)\n",
    "print(c)\n",
    "print(d)"
   ]
  },
  {
   "cell_type": "code",
   "execution_count": 42,
   "metadata": {},
   "outputs": [
    {
     "ename": "SyntaxError",
     "evalue": "cannot assign to function call here. Maybe you meant '==' instead of '='? (2680020068.py, line 3)",
     "output_type": "error",
     "traceback": [
      "\u001b[0;36m  Cell \u001b[0;32mIn[42], line 3\u001b[0;36m\u001b[0m\n\u001b[0;31m    cc(1)=7\u001b[0m\n\u001b[0m    ^\u001b[0m\n\u001b[0;31mSyntaxError\u001b[0m\u001b[0;31m:\u001b[0m cannot assign to function call here. Maybe you meant '==' instead of '='?\n"
     ]
    }
   ],
   "source": [
    "#TUPLE: sono strutture simili alle liste solo che nn posso cambiare i suoi elementi (utili per liste di costanti)\n",
    "cc=(1,2,'bergamo',3,3+4j) #definite tramite ()\n",
    "cc(1)=7"
   ]
  },
  {
   "cell_type": "code",
   "execution_count": 46,
   "metadata": {},
   "outputs": [
    {
     "name": "stdout",
     "output_type": "stream",
     "text": [
      "{1, 2, 3}\n"
     ]
    }
   ],
   "source": [
    "#SET: liste che nn accettano ripetizioni\n",
    "set={1,2,3,3}  #i set non sono indicizzati (e nemmeno quindi ordinati)\n",
    "print(s)"
   ]
  },
  {
   "cell_type": "code",
   "execution_count": 48,
   "metadata": {},
   "outputs": [],
   "source": [
    "?set.update"
   ]
  },
  {
   "cell_type": "markdown",
   "metadata": {},
   "source": [
    "## DICTIONARY:"
   ]
  },
  {
   "cell_type": "code",
   "execution_count": 51,
   "metadata": {},
   "outputs": [
    {
     "name": "stdout",
     "output_type": "stream",
     "text": [
      "Bruno\n"
     ]
    }
   ],
   "source": [
    "dizionario={    #utile per databases etc.\n",
    "    'name':'Bruno',\n",
    "    'surname':'Rossi',\n",
    "    'age':'N/A'\n",
    "}\n",
    "\n",
    "print(dizionario['name'])"
   ]
  },
  {
   "cell_type": "code",
   "execution_count": 52,
   "metadata": {},
   "outputs": [
    {
     "name": "stdout",
     "output_type": "stream",
     "text": [
      "name Bruno\n",
      "surname Rossi\n",
      "age N/A\n"
     ]
    }
   ],
   "source": [
    "#come stampo tutti i valori? beh uso un CICLO FOR:\n",
    "for x in dizionario: #x è una variabile di \"appoggio\"\n",
    "    print(x, dizionario[x])\n",
    "    "
   ]
  },
  {
   "cell_type": "code",
   "execution_count": 53,
   "metadata": {},
   "outputs": [
    {
     "name": "stdout",
     "output_type": "stream",
     "text": [
      "123\n",
      "1\n",
      "3\n"
     ]
    }
   ],
   "source": [
    "#allo stesso modo uso il ciclo di FOR sulle LISTE:\n",
    "for x in lista1:\n",
    "    print(x)"
   ]
  },
  {
   "cell_type": "code",
   "execution_count": 56,
   "metadata": {},
   "outputs": [
    {
     "name": "stdout",
     "output_type": "stream",
     "text": [
      "0\n",
      "1\n",
      "2\n",
      "3\n",
      "4\n"
     ]
    }
   ],
   "source": [
    "for i in range(5):      #IMPORTANTE: CICLO FOR CON LA FUNZIONE RANGE\n",
    "     print(i)"
   ]
  },
  {
   "cell_type": "code",
   "execution_count": 57,
   "metadata": {},
   "outputs": [
    {
     "data": {
      "text/plain": [
       "range(0, 5)"
      ]
     },
     "execution_count": 57,
     "metadata": {},
     "output_type": "execute_result"
    }
   ],
   "source": [
    "#con RANGE che è la funzione dei numeri da 0 a 5:\n",
    "range(5)"
   ]
  },
  {
   "cell_type": "code",
   "execution_count": 69,
   "metadata": {},
   "outputs": [
    {
     "name": "stdout",
     "output_type": "stream",
     "text": [
      "0\n",
      "1\n",
      "2\n",
      "3\n",
      "il numero è ora maggiore di 5\n"
     ]
    }
   ],
   "source": [
    "#altre variazioni e condizioni all'interno del FOR:\n",
    "for i in range(7):   #IMPORTANTE: CICLO FOR CON LA FUNZIONE RANGE\n",
    "    print(i)\n",
    "    if i>2:\n",
    "        print('il numero è ora maggiore di 5')\n",
    "        break #break stoppa il ciclo di for"
   ]
  },
  {
   "cell_type": "code",
   "execution_count": 70,
   "metadata": {},
   "outputs": [
    {
     "name": "stdout",
     "output_type": "stream",
     "text": [
      "1\n",
      "2\n",
      "3\n"
     ]
    }
   ],
   "source": [
    "#CICLO WHILE:  #utile per trovare iterativamente e numericamente gli zeri di una funz\n",
    "i=1\n",
    "while i<=3:\n",
    "    print(i)\n",
    "    i=i+1"
   ]
  },
  {
   "cell_type": "markdown",
   "metadata": {},
   "source": [
    "## DEFINIZIONE DI FUNZIONI\n"
   ]
  },
  {
   "cell_type": "code",
   "execution_count": 85,
   "metadata": {},
   "outputs": [],
   "source": [
    "def  sum(x,y):\n",
    "    '''con i tre apici commenti e descrivo la funzione.\n",
    "    quando digito ? prima della funzione ho la spiegazione'''\n",
    "    \n",
    "    return x+y\n"
   ]
  },
  {
   "cell_type": "code",
   "execution_count": 86,
   "metadata": {},
   "outputs": [
    {
     "data": {
      "text/plain": [
       "3"
      ]
     },
     "execution_count": 86,
     "metadata": {},
     "output_type": "execute_result"
    }
   ],
   "source": [
    "sum(1,2)"
   ]
  },
  {
   "cell_type": "code",
   "execution_count": 87,
   "metadata": {},
   "outputs": [],
   "source": [
    "?sum"
   ]
  },
  {
   "cell_type": "code",
   "execution_count": null,
   "metadata": {},
   "outputs": [],
   "source": [
    "#piton è un liguaggio di programmazione ad OGGETTI: posso definire le classi ecc\n"
   ]
  },
  {
   "cell_type": "markdown",
   "metadata": {},
   "source": [
    "## CLASSE E SUE DEFINIZIONE\n"
   ]
  },
  {
   "cell_type": "code",
   "execution_count": 118,
   "metadata": {},
   "outputs": [],
   "source": [
    "class prova:   #definizione di CLASSE. Anche qui OCCHIO all'indentazione!\n",
    "    '''questo è un test di prova\n",
    "    '''\n",
    "    def designer():  #è una funzione cosi definita\n",
    "        print('Guido van Rossum')  #è il creatore di py\n",
    "    def first_apperead():\n",
    "        print('1998')  #anno di apparizione\n",
    "        "
   ]
  },
  {
   "cell_type": "code",
   "execution_count": 90,
   "metadata": {},
   "outputs": [],
   "source": [
    "p=prova #creo l'OGGETTO con cui poter sfruttare la classe e il suo contentuo. Prova è la classe\n"
   ]
  },
  {
   "cell_type": "code",
   "execution_count": 91,
   "metadata": {},
   "outputs": [
    {
     "name": "stdout",
     "output_type": "stream",
     "text": [
      "Guido van Rossum\n"
     ]
    }
   ],
   "source": [
    "p.designer()  #richiamo le funzioni della classse tramite l'oggetto p"
   ]
  },
  {
   "cell_type": "code",
   "execution_count": 92,
   "metadata": {},
   "outputs": [
    {
     "name": "stdout",
     "output_type": "stream",
     "text": [
      "1998\n"
     ]
    }
   ],
   "source": [
    "p.first_apperead()"
   ]
  },
  {
   "cell_type": "code",
   "execution_count": 138,
   "metadata": {},
   "outputs": [
    {
     "ename": "IndentationError",
     "evalue": "unindent does not match any outer indentation level (<tokenize>, line 7)",
     "output_type": "error",
     "traceback": [
      "\u001b[0;36m  File \u001b[0;32m<tokenize>:7\u001b[0;36m\u001b[0m\n\u001b[0;31m    def  __init__(self,name, age): #funzione di inizializzazione (con i due _ prima e dopo). La j è di appoggio\u001b[0m\n\u001b[0m    ^\u001b[0m\n\u001b[0;31mIndentationError\u001b[0m\u001b[0;31m:\u001b[0m unindent does not match any outer indentation level\n"
     ]
    }
   ],
   "source": [
    "#DEFINISCO ORA UNA CLASSE IN CUI POSSO MODIFICARE GLI OGGETTI CHE APPARTENGONO ALLA CLASSE!\n",
    "\n",
    "class persona:\n",
    "     '''classe più complessa di quella di prima'''\n",
    "        \n",
    "        \n",
    "    def  __init__(self,name, age): #funzione di inizializzazione (con i due _ prima e dopo). La self è di appoggio\n",
    "        self.name=name\n",
    "        self.age=age\n",
    "        \n",
    "    def stampa(i):\n",
    "        print('Mi chiamo' + self.name)  #perche non la accetta ???(...)"
   ]
  },
  {
   "cell_type": "code",
   "execution_count": 131,
   "metadata": {},
   "outputs": [],
   "source": [
    "g = persona('Natalie', 40) #devo inizializzare l'oggetto della classe secondo la funzione di inizializzazione"
   ]
  },
  {
   "cell_type": "code",
   "execution_count": 136,
   "metadata": {},
   "outputs": [],
   "source": [
    " print(g.name) #cosi stampo il nome (Natalie ) oppure l'età (40) tramite l'attributo name o age. g funge da self"
   ]
  },
  {
   "cell_type": "code",
   "execution_count": 139,
   "metadata": {},
   "outputs": [
    {
     "ename": "AttributeError",
     "evalue": "'persona' object has no attribute 'stampa'",
     "output_type": "error",
     "traceback": [
      "\u001b[0;31m---------------------------------------------------------------------------\u001b[0m",
      "\u001b[0;31mAttributeError\u001b[0m                            Traceback (most recent call last)",
      "Cell \u001b[0;32mIn[139], line 1\u001b[0m\n\u001b[0;32m----> 1\u001b[0m g\u001b[38;5;241m.\u001b[39mstampa() \u001b[38;5;66;03m#stampo il contenuto cioè \"Mi chiamo Natalie\"\u001b[39;00m\n\u001b[1;32m      3\u001b[0m g\u001b[38;5;241m.\u001b[39mname \u001b[38;5;241m=\u001b[39m Roberto\n",
      "\u001b[0;31mAttributeError\u001b[0m: 'persona' object has no attribute 'stampa'"
     ]
    }
   ],
   "source": [
    "g.stampa() #stampo il contenuto cioè \"Mi chiamo Natalie\"\n",
    "\n",
    "g.name = Roberto #qui CAMBIO il valore dell'attributo\n"
   ]
  },
  {
   "cell_type": "markdown",
   "metadata": {},
   "source": [
    "## inseriamo una libreria importante: NUMerical PYthon\n"
   ]
  },
  {
   "cell_type": "code",
   "execution_count": 141,
   "metadata": {},
   "outputs": [],
   "source": [
    "import numpy as np #abbiamo importato numpy con il nome np per comodità"
   ]
  },
  {
   "cell_type": "code",
   "execution_count": null,
   "metadata": {},
   "outputs": [],
   "source": []
  }
 ],
 "metadata": {
  "kernelspec": {
   "display_name": "Python 3 (ipykernel)",
   "language": "python",
   "name": "python3"
  },
  "language_info": {
   "codemirror_mode": {
    "name": "ipython",
    "version": 3
   },
   "file_extension": ".py",
   "mimetype": "text/x-python",
   "name": "python",
   "nbconvert_exporter": "python",
   "pygments_lexer": "ipython3",
   "version": "3.11.4"
  }
 },
 "nbformat": 4,
 "nbformat_minor": 4
}
