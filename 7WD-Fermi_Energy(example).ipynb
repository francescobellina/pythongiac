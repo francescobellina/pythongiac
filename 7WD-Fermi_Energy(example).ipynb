{
 "cells": [
  {
   "cell_type": "markdown",
   "metadata": {},
   "source": [
    "In a White Dwarf (WD) the rest-mass density $\\rho$ is related to the electron number denisty $n_e$ via $\\rho=\\frac{A}{Z}m_pn_e$, where $A$ is the mass number, $Z$ the atomic number (we assume the WD to be composed of a single element, but in general $A=2Z$), and $m_p$ the mass of a proton (we are making the assumption $m_p=m_n$).\n",
    "Let's then compute the value of $n_e$ assuming the WD having a mean density of $10^{6}$ g cm$^{-3}$:"
   ]
  },
  {
   "cell_type": "code",
   "execution_count": 1,
   "metadata": {},
   "outputs": [
    {
     "name": "stdout",
     "output_type": "stream",
     "text": [
      "2.994011976047904e+29\n"
     ]
    }
   ],
   "source": [
    "mp=1.67e-24\n",
    "rho=1.0e6    #densità tipica di una WD\n",
    "ne=0.5*rho/mp   #calcolo della numb density degli elettroni\n",
    "print(ne)"
   ]
  },
  {
   "cell_type": "markdown",
   "metadata": {},
   "source": [
    "We also know that\n",
    "$n_e=\\int_0^{p_F}\\frac{8\\pi}{h^3}p^2dp=\\frac{8\\pi}{3h^3}p_F^3$\n",
    "where $p_F$ is the Fermi momentum and $h$ the Planck's constant\n",
    "Therefore from the electron number density we can compute the Fermi momentum $p_F=\\frac{h}{2}\\left (\\frac{3 n_e}{\\pi}\\right)^{1/3}$"
   ]
  },
  {
   "cell_type": "code",
   "execution_count": 2,
   "metadata": {},
   "outputs": [
    {
     "name": "stdout",
     "output_type": "stream",
     "text": [
      "2.1838618977401334e-17\n"
     ]
    }
   ],
   "source": [
    "import numpy as np  #questa libreria include molte costanti\n",
    "h=6.63e-27\n",
    "pf=0.5*h*(3*ne/np.pi)**(1.0/3.0)\n",
    "print(pf)  #stampo il momento di Fermi"
   ]
  },
  {
   "cell_type": "markdown",
   "metadata": {},
   "source": [
    "Now that we have computed the Fermi momentum, we can compute the Fermi energy $E_F$ for a typical WD,\n",
    "$E_F=\\left( p_F^2 c^2 + m_e^2 c^4\\right)^{1/2}$, where $m_e$ is the electron rest mass and $c$ the speed of light in vacuum."
   ]
  },
  {
   "cell_type": "code",
   "execution_count": 3,
   "metadata": {},
   "outputs": [
    {
     "name": "stdout",
     "output_type": "stream",
     "text": [
      "1.0495088189034442e-06\n",
      "0.6551895438392376\n"
     ]
    }
   ],
   "source": [
    "me=9.11e-28\n",
    "c=3.0e10\n",
    "Ef=np.sqrt(pf**2 * c**2 + me**2 * c**4)   #Energia di Fermi\n",
    "print(Ef) #this is in erg\n",
    "print(Ef/1.60184e-6) #we print this also in MeV, where 1MeV = 1.60184e-6 erg (remember that me*c^2 is ~0.5 MeV)"
   ]
  },
  {
   "cell_type": "markdown",
   "metadata": {},
   "source": [
    "Now that we got the Fermi energy we can plot the Fermi-Dirac distribution for different values of the temperature and check if a step function is a good approximation. The Fermi-Dirac distribution is $f(E)=\\frac{1}{{\\rm exp}\\left(\\frac{E-E_F}{k_bT}\\right)+1}$"
   ]
  },
  {
   "cell_type": "code",
   "execution_count": 4,
   "metadata": {},
   "outputs": [],
   "source": [
    "import numpy as np\n",
    "kb=1.38e-16 #Boltzmann's constant\n",
    "energy=np.linspace(0, 1.2e-6, 100)  #array creato tramite numpy con linspace\n",
    "T=1.0e7 #this is in Kelvin\n",
    "f=1.0/(np.exp((energy-Ef)/(kb*T))+1.0) #questa è la funzione"
   ]
  },
  {
   "cell_type": "code",
   "execution_count": 5,
   "metadata": {},
   "outputs": [
    {
     "data": {
      "image/png": "[encoded data removed]",
      "text/plain": [
       "<Figure size 432x288 with 1 Axes>"
      ]
     },
     "metadata": {
      "needs_background": "light"
     },
     "output_type": "display_data"
    }
   ],
   "source": [
    "import matplotlib.pyplot as plt\n",
    "plt.plot(energy, f) #plotto energy vs f\n",
    "plt.xlabel('E (erg)', fontsize=14)\n",
    "plt.ylabel('f(E)', fontsize=14)\n",
    "plt.vlines(Ef, -0.1, 1.05, colors='r', linestyles='dashed', label='E_F') #funzione vlines\n",
    "#plotta una linea verticale. In questo caso corrisponde proprio alla energia di fermi\n",
    "plt.legend()\n",
    "plt.show()"
   ]
  },
  {
   "cell_type": "markdown",
   "metadata": {},
   "source": [
    "Note: I took some of the fundamental constant values from https://ned.ipac.caltech.edu/level5/Glossary/lang_formulae.html"
   ]
  },
  {
   "cell_type": "code",
   "execution_count": null,
   "metadata": {},
   "outputs": [],
   "source": []
  }
 ],
 "metadata": {
  "kernelspec": {
   "display_name": "Python 3 (ipykernel)",
   "language": "python",
   "name": "python3"
  },
  "language_info": {
   "codemirror_mode": {
    "name": "ipython",
    "version": 3
   },
   "file_extension": ".py",
   "mimetype": "text/x-python",
   "name": "python",
   "nbconvert_exporter": "python",
   "pygments_lexer": "ipython3",
   "version": "3.11.4"
  }
 },
 "nbformat": 4,
 "nbformat_minor": 4
}
