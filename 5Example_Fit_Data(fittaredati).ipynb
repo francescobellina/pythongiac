{
 "cells": [
  {
   "cell_type": "markdown",
   "metadata": {},
   "source": [
    "# How to fit Data with a Generic Function: fare un FIT"
   ]
  },
  {
   "cell_type": "markdown",
   "metadata": {},
   "source": [
    "## Create Some Data\n",
    "\n",
    "As an example we create some data, but of course you can also read the data from a file as shown in yesterday's lecture. The important point is to have two arrays, one for the x axis and one for the y axis. We are indeed going to do a 1D fit $y=f(x)$."
   ]
  },
  {
   "cell_type": "code",
   "execution_count": null,
   "metadata": {},
   "outputs": [],
   "source": [
    "import numpy as np"
   ]
  },
  {
   "cell_type": "code",
   "execution_count": null,
   "metadata": {},
   "outputs": [],
   "source": [
    "x = np.linspace(0,10*np.pi,10)  #creo un array di x (fittiamo su dati monodimensionali)"
   ]
  },
  {
   "cell_type": "code",
   "execution_count": null,
   "metadata": {},
   "outputs": [],
   "source": [
    "y = x**3   #funzione \n",
    "\n",
    "# y=y*np.random.uniform(0.99, 1.01, len(y))  --> add noise at 1% level"
   ]
  },
  {
   "cell_type": "code",
   "execution_count": null,
   "metadata": {},
   "outputs": [],
   "source": [
    "import matplotlib.pyplot as plt    #importiamo la libreria matplot lib\n",
    "plt.rcParams['font.size'] = 16     #font del grafico"
   ]
  },
  {
   "cell_type": "code",
   "execution_count": null,
   "metadata": {},
   "outputs": [],
   "source": [
    "plt.plot(x,y, 'o')     # con la o rappresento i punti\n",
    "plt.show() "
   ]
  },
  {
   "cell_type": "markdown",
   "metadata": {},
   "source": [
    "## Use SciPy to Fit the Data\n",
    "\n",
    "Based on this [lecture](https://education.molssi.org/python-data-analysis/03-data-fitting/index.html)"
   ]
  },
  {
   "cell_type": "code",
   "execution_count": null,
   "metadata": {},
   "outputs": [],
   "source": [
    "from scipy.optimize import curve_fit   #importiamo questa libreria e in particolare la funzione curve_fit"
   ]
  },
  {
   "cell_type": "markdown",
   "metadata": {},
   "source": [
    "The `curve_fit` function has three required inputs: the function you want to fit, the x-data, and the y-data you are fitting. There are **two** outputs. The first is an **array of the optimal values of the parameters**. The second a matrix of the estimated **covariance** of the parameters from which you can calculate the standard error for the parameters.\n",
    "\n",
    "We first need to define the function we want to use for the fit."
   ]
  },
  {
   "cell_type": "code",
   "execution_count": null,
   "metadata": {},
   "outputs": [],
   "source": [
    "def my_function(x, A, B, C, D):       #definiziamo la funzione che mi fitti la mia curva. la fitto con un polinomio\n",
    "    y = A + B*x + C*x**2 + D*x**3     #di terzo grado. A,B,C,D sono i parametri del polinomio di fitting\n",
    "    return y"
   ]
  },
  {
   "cell_type": "code",
   "execution_count": null,
   "metadata": {},
   "outputs": [],
   "source": [
    "parameters, covariance = curve_fit(my_function, x, y)   #COMANDO PER FARE IL FIT. curve_fit prende come input\n",
    "#la funzione my_function definita prima, poi le x e le y.\n",
    "\n",
    "#sintassi del comando: la funzione curve_fit sappiamo che restituisce due valori: \n",
    "#il primo è un array, il secondo è una matrice.\n",
    "#Scritto così significa: il primo output va nella variabile parameters, il secondo va nella variabile covariance.\n",
    "#QUESTA SINTASSI è PER funzioni che resitutiscono due o piu output! var1, var2 = funzione(...)\n"
   ]
  },
  {
   "cell_type": "code",
   "execution_count": null,
   "metadata": {},
   "outputs": [],
   "source": [
    "print(parameters)   #stampo i parametri"
   ]
  },
  {
   "cell_type": "code",
   "execution_count": null,
   "metadata": {},
   "outputs": [],
   "source": [
    "fit_y = my_function(x, parameters[0], parameters[1], parameters[2], parameters[3]) #ora PLOTTO il fit\n",
    "plt.plot(x, y, 'o', label='data')\n",
    "plt.plot(x, fit_y, '-', label='fit')   #IL FIT lo plotto con una linea\n",
    "plt.legend()\n",
    "plt.show()"
   ]
  },
  {
   "cell_type": "markdown",
   "metadata": {},
   "source": [
    "The diagonal of `covariance` provide the variance of the parameter estimate. To compute one standard deviation errors on the parameters use `standard_error = np.sqrt(np.diag(covariance))`.\n",
    "Per avere un idea dell'errore (della dev standard) sui vari coefficienti"
   ]
  },
  {
   "cell_type": "code",
   "execution_count": null,
   "metadata": {},
   "outputs": [],
   "source": [
    "#ERRORE SUI SINGOLI PARAMETRI:\n",
    "SE = np.sqrt(np.diag(covariance))   #prendo la diagonale della matrice di covariancia (è cio che mi serve)\n",
    "SE_A = SE[0] #standard error on A\n",
    "SE_B = SE[1] #standard error on B\n",
    "SE_C = SE[2] #standard error on C\n",
    "SE_D = SE[3] #standard error on D\n",
    "\n",
    "print(F'The value of A is {parameters[0]:.5e} with standard error of {SE_A:.5e}.')  #.5e sono le cifre in not scientifica\n",
    "print(F'The value of B is {parameters[1]:.5e} with standard error of {SE_B:.5e}.')\n",
    "print(F'The value of C is {parameters[2]:.5e} with standard error of {SE_C:.5e}.')\n",
    "print(F'The value of D is {parameters[3]:.5e} with standard error of {SE_D:.5e}.')"
   ]
  },
  {
   "cell_type": "code",
   "execution_count": 2,
   "metadata": {},
   "outputs": [
    {
     "ename": "NameError",
     "evalue": "name 'my_function' is not defined",
     "output_type": "error",
     "traceback": [
      "\u001b[0;31m---------------------------------------------------------------------------\u001b[0m",
      "\u001b[0;31mNameError\u001b[0m                                 Traceback (most recent call last)",
      "Cell \u001b[0;32mIn[2], line 11\u001b[0m\n\u001b[1;32m      1\u001b[0m \u001b[38;5;66;03m#gli errori su A,B,C sono grandi. L'unico più piccolo è su D\u001b[39;00m\n\u001b[1;32m      2\u001b[0m \n\u001b[1;32m      3\u001b[0m \u001b[38;5;66;03m#qualsiasi fit comunque ha un errore.\u001b[39;00m\n\u001b[0;32m   (...)\u001b[0m\n\u001b[1;32m      9\u001b[0m \n\u001b[1;32m     10\u001b[0m \u001b[38;5;66;03m#largest values for fit assumin 1  standard dev:\u001b[39;00m\n\u001b[0;32m---> 11\u001b[0m max_fit_y \u001b[38;5;241m=\u001b[39m my_function(x, parameters[\u001b[38;5;241m0\u001b[39m]\u001b[38;5;241m+\u001b[39mSE_A, parameters[\u001b[38;5;241m1\u001b[39m]\u001b[38;5;241m+\u001b[39mSE_B, parameters[\u001b[38;5;241m2\u001b[39m]\u001b[38;5;241m+\u001b[39mSE_C, parameters[\u001b[38;5;241m3\u001b[39m]\u001b[38;5;241m+\u001b[39mSE_D)\n\u001b[1;32m     13\u001b[0m \u001b[38;5;66;03m#smallest values for fit assuming 1 standard deviation:\u001b[39;00m\n\u001b[1;32m     14\u001b[0m min_fit_y \u001b[38;5;241m=\u001b[39m my_function(x, parameters[\u001b[38;5;241m0\u001b[39m]\u001b[38;5;241m-\u001b[39mSE_A, parameters[\u001b[38;5;241m1\u001b[39m]\u001b[38;5;241m-\u001b[39mSE_B, parameters[\u001b[38;5;241m2\u001b[39m]\u001b[38;5;241m-\u001b[39mSE_C, parameters[\u001b[38;5;241m3\u001b[39m]\u001b[38;5;241m-\u001b[39mSE_D)\n",
      "\u001b[0;31mNameError\u001b[0m: name 'my_function' is not defined"
     ]
    }
   ],
   "source": [
    "#gli errori su A,B,C sono grandi. L'unico più piccolo è su D\n",
    "\n",
    "#qualsiasi fit comunque ha un errore.\n",
    "\n",
    "#-------------------\n",
    "\n",
    "\n",
    "#Cosa COSTRUIAMO ORA: la funzione con i parametri massimizzati sull'errore e quella minimizzata\n",
    "\n",
    "#largest values for fit assumin 1  standard dev:\n",
    "max_fit_y = my_function(x, parameters[0]+SE_A, parameters[1]+SE_B, parameters[2]+SE_C, parameters[3]+SE_D)\n",
    "\n",
    "#smallest values for fit assuming 1 standard deviation:\n",
    "min_fit_y = my_function(x, parameters[0]-SE_A, parameters[1]-SE_B, parameters[2]-SE_C, parameters[3]-SE_D)\n"
   ]
  },
  {
   "cell_type": "code",
   "execution_count": null,
   "metadata": {},
   "outputs": [],
   "source": [
    "#ERRORE SUL FIT: \n",
    "plt.plot(x, y, 'o', label='data')\n",
    "plt.plot(x, fit_y, '-', label='fit')\n",
    "plt.plot(x, max_fit_y, 'g--')\n",
    "plt.plot(x, min_fit_y, 'b--')\n",
    "plt.fill_between(x, max_fit_y, min_fit_y, facecolor=\"gray\", alpha=0.15) #colore tra la \"barra di errore\"\n",
    "plt.legend()\n",
    "plt.show()\n",
    "\n",
    "#all'interno della regione si trovano tutte le funzioni che possono fittare la funzione, con una certa probabilità.\n",
    "#compresa la funzione esatta\n",
    "\n",
    "#dovremmo poter visualizzare il grafico (...)\n",
    "\n",
    "#E PER INSERIRE anche gli errori sui singoli dati?\n"
   ]
  }
 ],
 "metadata": {
  "kernelspec": {
   "display_name": "Python 3 (ipykernel)",
   "language": "python",
   "name": "python3"
  },
  "language_info": {
   "codemirror_mode": {
    "name": "ipython",
    "version": 3
   },
   "file_extension": ".py",
   "mimetype": "text/x-python",
   "name": "python",
   "nbconvert_exporter": "python",
   "pygments_lexer": "ipython3",
   "version": "3.11.4"
  }
 },
 "nbformat": 4,
 "nbformat_minor": 4
}
